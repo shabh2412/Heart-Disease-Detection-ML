{
  "nbformat": 4,
  "nbformat_minor": 0,
  "metadata": {
    "colab": {
      "name": "ML-PROJECT - Heart Disease.ipynb",
      "provenance": [],
      "collapsed_sections": [],
      "authorship_tag": "ABX9TyO5cjaLepuYs9BErRavdIqv",
      "include_colab_link": true
    },
    "kernelspec": {
      "name": "python3",
      "display_name": "Python 3"
    },
    "language_info": {
      "name": "python"
    }
  },
  "cells": [
    {
      "cell_type": "markdown",
      "metadata": {
        "id": "view-in-github",
        "colab_type": "text"
      },
      "source": [
        "<a href=\"https://colab.research.google.com/github/shabh2412/Heart-Disease-Detection-ML/blob/master/ML_PROJECT_Heart_Disease.ipynb\" target=\"_parent\"><img src=\"https://colab.research.google.com/assets/colab-badge.svg\" alt=\"Open In Colab\"/></a>"
      ]
    },
    {
      "cell_type": "code",
      "metadata": {
        "colab": {
          "base_uri": "https://localhost:8080/"
        },
        "id": "3TkUQF9W6Ot_",
        "outputId": "84122fc7-bad6-4d2c-f852-00c758b099d1"
      },
      "source": [
        "# https://drive.google.com/file/d//view?usp=sharing\n",
        "\n",
        "# !wget --no-check-certificate 'https://docs.google.com/uc?export=download&id=1uHElxfrBT_M7yybxqJCyqgCeEWjLbeNe' -O data.csv\n",
        "\n",
        "!wget --no-check-certificate 'https://docs.google.com/uc?export=download&id=1qKyxN0aSkMMzHiWmSgjBs1_022AbWH7V' -O data.csv"
      ],
      "execution_count": 1,
      "outputs": [
        {
          "output_type": "stream",
          "text": [
            "--2021-04-14 21:43:23--  https://docs.google.com/uc?export=download&id=1qKyxN0aSkMMzHiWmSgjBs1_022AbWH7V\n",
            "Resolving docs.google.com (docs.google.com)... 142.250.97.113, 142.250.97.138, 142.250.97.100, ...\n",
            "Connecting to docs.google.com (docs.google.com)|142.250.97.113|:443... connected.\n",
            "HTTP request sent, awaiting response... 302 Moved Temporarily\n",
            "Location: https://doc-0s-1c-docs.googleusercontent.com/docs/securesc/ha0ro937gcuc7l7deffksulhg5h7mbp1/1lcd7n90cr2bcu0fmv42vv2akv839p58/1618436550000/17561875599242575794/*/1qKyxN0aSkMMzHiWmSgjBs1_022AbWH7V?e=download [following]\n",
            "Warning: wildcards not supported in HTTP.\n",
            "--2021-04-14 21:43:23--  https://doc-0s-1c-docs.googleusercontent.com/docs/securesc/ha0ro937gcuc7l7deffksulhg5h7mbp1/1lcd7n90cr2bcu0fmv42vv2akv839p58/1618436550000/17561875599242575794/*/1qKyxN0aSkMMzHiWmSgjBs1_022AbWH7V?e=download\n",
            "Resolving doc-0s-1c-docs.googleusercontent.com (doc-0s-1c-docs.googleusercontent.com)... 173.194.217.132, 2607:f8b0:400c:c13::84\n",
            "Connecting to doc-0s-1c-docs.googleusercontent.com (doc-0s-1c-docs.googleusercontent.com)|173.194.217.132|:443... connected.\n",
            "HTTP request sent, awaiting response... 200 OK\n",
            "Length: 11328 (11K) [text/csv]\n",
            "Saving to: ‘data.csv’\n",
            "\n",
            "data.csv            100%[===================>]  11.06K  --.-KB/s    in 0s      \n",
            "\n",
            "2021-04-14 21:43:23 (60.0 MB/s) - ‘data.csv’ saved [11328/11328]\n",
            "\n"
          ],
          "name": "stdout"
        }
      ]
    },
    {
      "cell_type": "code",
      "metadata": {
        "id": "UH53Q15A6hkc"
      },
      "source": [
        "import pandas as pd\n",
        "import numpy as np\n",
        "\n",
        "df = pd.read_csv('data.csv')"
      ],
      "execution_count": 2,
      "outputs": []
    },
    {
      "cell_type": "code",
      "metadata": {
        "colab": {
          "base_uri": "https://localhost:8080/",
          "height": 204
        },
        "id": "1iNRVDHT6uAz",
        "outputId": "004eb374-c066-4af6-9047-f5345042d9c5"
      },
      "source": [
        "df.head()"
      ],
      "execution_count": 3,
      "outputs": [
        {
          "output_type": "execute_result",
          "data": {
            "text/html": [
              "<div>\n",
              "<style scoped>\n",
              "    .dataframe tbody tr th:only-of-type {\n",
              "        vertical-align: middle;\n",
              "    }\n",
              "\n",
              "    .dataframe tbody tr th {\n",
              "        vertical-align: top;\n",
              "    }\n",
              "\n",
              "    .dataframe thead th {\n",
              "        text-align: right;\n",
              "    }\n",
              "</style>\n",
              "<table border=\"1\" class=\"dataframe\">\n",
              "  <thead>\n",
              "    <tr style=\"text-align: right;\">\n",
              "      <th></th>\n",
              "      <th>age</th>\n",
              "      <th>sex</th>\n",
              "      <th>cp</th>\n",
              "      <th>trestbps</th>\n",
              "      <th>chol</th>\n",
              "      <th>fbs</th>\n",
              "      <th>restecg</th>\n",
              "      <th>thalach</th>\n",
              "      <th>exang</th>\n",
              "      <th>oldpeak</th>\n",
              "      <th>slope</th>\n",
              "      <th>ca</th>\n",
              "      <th>thal</th>\n",
              "      <th>target</th>\n",
              "    </tr>\n",
              "  </thead>\n",
              "  <tbody>\n",
              "    <tr>\n",
              "      <th>0</th>\n",
              "      <td>63</td>\n",
              "      <td>1</td>\n",
              "      <td>3</td>\n",
              "      <td>145</td>\n",
              "      <td>233</td>\n",
              "      <td>1</td>\n",
              "      <td>0</td>\n",
              "      <td>150</td>\n",
              "      <td>0</td>\n",
              "      <td>2.3</td>\n",
              "      <td>0</td>\n",
              "      <td>0</td>\n",
              "      <td>1</td>\n",
              "      <td>1</td>\n",
              "    </tr>\n",
              "    <tr>\n",
              "      <th>1</th>\n",
              "      <td>37</td>\n",
              "      <td>1</td>\n",
              "      <td>2</td>\n",
              "      <td>130</td>\n",
              "      <td>250</td>\n",
              "      <td>0</td>\n",
              "      <td>1</td>\n",
              "      <td>187</td>\n",
              "      <td>0</td>\n",
              "      <td>3.5</td>\n",
              "      <td>0</td>\n",
              "      <td>0</td>\n",
              "      <td>2</td>\n",
              "      <td>1</td>\n",
              "    </tr>\n",
              "    <tr>\n",
              "      <th>2</th>\n",
              "      <td>41</td>\n",
              "      <td>0</td>\n",
              "      <td>1</td>\n",
              "      <td>130</td>\n",
              "      <td>204</td>\n",
              "      <td>0</td>\n",
              "      <td>0</td>\n",
              "      <td>172</td>\n",
              "      <td>0</td>\n",
              "      <td>1.4</td>\n",
              "      <td>2</td>\n",
              "      <td>0</td>\n",
              "      <td>2</td>\n",
              "      <td>1</td>\n",
              "    </tr>\n",
              "    <tr>\n",
              "      <th>3</th>\n",
              "      <td>56</td>\n",
              "      <td>1</td>\n",
              "      <td>1</td>\n",
              "      <td>120</td>\n",
              "      <td>236</td>\n",
              "      <td>0</td>\n",
              "      <td>1</td>\n",
              "      <td>178</td>\n",
              "      <td>0</td>\n",
              "      <td>0.8</td>\n",
              "      <td>2</td>\n",
              "      <td>0</td>\n",
              "      <td>2</td>\n",
              "      <td>1</td>\n",
              "    </tr>\n",
              "    <tr>\n",
              "      <th>4</th>\n",
              "      <td>57</td>\n",
              "      <td>0</td>\n",
              "      <td>0</td>\n",
              "      <td>120</td>\n",
              "      <td>354</td>\n",
              "      <td>0</td>\n",
              "      <td>1</td>\n",
              "      <td>163</td>\n",
              "      <td>1</td>\n",
              "      <td>0.6</td>\n",
              "      <td>2</td>\n",
              "      <td>0</td>\n",
              "      <td>2</td>\n",
              "      <td>1</td>\n",
              "    </tr>\n",
              "  </tbody>\n",
              "</table>\n",
              "</div>"
            ],
            "text/plain": [
              "   age  sex  cp  trestbps  chol  fbs  ...  exang  oldpeak  slope  ca  thal  target\n",
              "0   63    1   3       145   233    1  ...      0      2.3      0   0     1       1\n",
              "1   37    1   2       130   250    0  ...      0      3.5      0   0     2       1\n",
              "2   41    0   1       130   204    0  ...      0      1.4      2   0     2       1\n",
              "3   56    1   1       120   236    0  ...      0      0.8      2   0     2       1\n",
              "4   57    0   0       120   354    0  ...      1      0.6      2   0     2       1\n",
              "\n",
              "[5 rows x 14 columns]"
            ]
          },
          "metadata": {
            "tags": []
          },
          "execution_count": 3
        }
      ]
    },
    {
      "cell_type": "code",
      "metadata": {
        "colab": {
          "base_uri": "https://localhost:8080/"
        },
        "id": "1eWIfrXK6u2x",
        "outputId": "e5bcb018-15ed-4eb0-cd80-8ff2624e603b"
      },
      "source": [
        "df.shape"
      ],
      "execution_count": 4,
      "outputs": [
        {
          "output_type": "execute_result",
          "data": {
            "text/plain": [
              "(303, 14)"
            ]
          },
          "metadata": {
            "tags": []
          },
          "execution_count": 4
        }
      ]
    },
    {
      "cell_type": "code",
      "metadata": {
        "colab": {
          "base_uri": "https://localhost:8080/"
        },
        "id": "g_iLyFif7ZuG",
        "outputId": "56fe4151-377c-43a3-c7b4-6c80d9846b11"
      },
      "source": [
        "df.dtypes"
      ],
      "execution_count": 5,
      "outputs": [
        {
          "output_type": "execute_result",
          "data": {
            "text/plain": [
              "age           int64\n",
              "sex           int64\n",
              "cp            int64\n",
              "trestbps      int64\n",
              "chol          int64\n",
              "fbs           int64\n",
              "restecg       int64\n",
              "thalach       int64\n",
              "exang         int64\n",
              "oldpeak     float64\n",
              "slope         int64\n",
              "ca            int64\n",
              "thal          int64\n",
              "target        int64\n",
              "dtype: object"
            ]
          },
          "metadata": {
            "tags": []
          },
          "execution_count": 5
        }
      ]
    },
    {
      "cell_type": "code",
      "metadata": {
        "id": "qwdVEY3r7trN"
      },
      "source": [
        "def replace_with_na(x):\n",
        "    if x == '?':\n",
        "        x = None\n",
        "    return x"
      ],
      "execution_count": 6,
      "outputs": []
    },
    {
      "cell_type": "code",
      "metadata": {
        "id": "dKhivd_j8M0G"
      },
      "source": [
        "for index in df.columns:\n",
        "    df[index] = df[index].apply(lambda x:replace_with_na(x))"
      ],
      "execution_count": 7,
      "outputs": []
    },
    {
      "cell_type": "code",
      "metadata": {
        "colab": {
          "base_uri": "https://localhost:8080/"
        },
        "id": "WIuUBke38ktA",
        "outputId": "c7119d7d-20d6-4b33-ba50-0426552474ca"
      },
      "source": [
        "df.dtypes"
      ],
      "execution_count": 8,
      "outputs": [
        {
          "output_type": "execute_result",
          "data": {
            "text/plain": [
              "age           int64\n",
              "sex           int64\n",
              "cp            int64\n",
              "trestbps      int64\n",
              "chol          int64\n",
              "fbs           int64\n",
              "restecg       int64\n",
              "thalach       int64\n",
              "exang         int64\n",
              "oldpeak     float64\n",
              "slope         int64\n",
              "ca            int64\n",
              "thal          int64\n",
              "target        int64\n",
              "dtype: object"
            ]
          },
          "metadata": {
            "tags": []
          },
          "execution_count": 8
        }
      ]
    },
    {
      "cell_type": "code",
      "metadata": {
        "id": "8_t_zQzK8nav",
        "colab": {
          "base_uri": "https://localhost:8080/"
        },
        "outputId": "c1aed694-ccad-451e-b8a7-925617c59c78"
      },
      "source": [
        "df.isnull().sum()"
      ],
      "execution_count": 9,
      "outputs": [
        {
          "output_type": "execute_result",
          "data": {
            "text/plain": [
              "age         0\n",
              "sex         0\n",
              "cp          0\n",
              "trestbps    0\n",
              "chol        0\n",
              "fbs         0\n",
              "restecg     0\n",
              "thalach     0\n",
              "exang       0\n",
              "oldpeak     0\n",
              "slope       0\n",
              "ca          0\n",
              "thal        0\n",
              "target      0\n",
              "dtype: int64"
            ]
          },
          "metadata": {
            "tags": []
          },
          "execution_count": 9
        }
      ]
    },
    {
      "cell_type": "markdown",
      "metadata": {
        "id": "ikZWHesBH4lw"
      },
      "source": [
        "<!--\n",
        "# df['histologic-type'].head()\n",
        "# round(df['histologic-type'].dropna().astype('int32').mean())\n",
        "# df['histologic-type'].fillna(round(df['histologic-type'].dropna().astype('int32').mean()), inplace=True)\n",
        "# df['degree-of-diffe'].head()\n",
        "# df['degree-of-diffe'].fillna(round(df['degree-of-diffe'].dropna().astype('int32').mean()), inplace=True)\n",
        "df.dropna(inplace=True)\n",
        "df = df.astype('int32')\n",
        "# hidden_df = pd.DataFrame(columns='class,age,sex,histologic-type,degree-of-diffe,bone,bone-marrow,lung,pleura,peritoneum,liver,brain,skin,neck,supraclavicular,axillar,mediastinum,abdominal'.split(','))\n",
        "# hidden_df.head()\n",
        "# for i in [1,2,3]:\n",
        "#     temp = df[df['histologic-type']==i].head(1)\n",
        "#     hidden_df = pd.concat([hidden_df,temp])\n",
        "#     df.drop(temp.index, inplace=True)\n",
        "\n",
        "# hidden_df.head()\n",
        "# x_hidden = hidden_df.drop('histologic-type', axis=1)\n",
        "# y_hidden = hidden_df['histologic-type']\n",
        "# df.shape\n",
        "# y = df['histologic-type']\n",
        "# df.drop('histologic-type', axis=1,inplace=True)\n",
        "# len(y[y==3]), len(y[y==2]), len(y[y==1])\n",
        "from sklearn.model_selection import train_test_split\n",
        "-->"
      ]
    },
    {
      "cell_type": "code",
      "metadata": {
        "id": "numMB4iK4g0S"
      },
      "source": [
        "X,y = df.drop('target',axis=1), df['target']"
      ],
      "execution_count": 10,
      "outputs": []
    },
    {
      "cell_type": "code",
      "metadata": {
        "id": "mdsUmdSKPC0X"
      },
      "source": [
        "from sklearn.model_selection import train_test_split\n",
        "X_train, X_test, y_train, y_test = train_test_split(X, y, random_state=0)"
      ],
      "execution_count": 11,
      "outputs": []
    },
    {
      "cell_type": "code",
      "metadata": {
        "id": "PHdxPw9_5f6L"
      },
      "source": [
        ""
      ],
      "execution_count": 11,
      "outputs": []
    },
    {
      "cell_type": "markdown",
      "metadata": {
        "id": "cWuI8YII5hqH"
      },
      "source": [
        "## Implementing GridSearchCV"
      ]
    },
    {
      "cell_type": "code",
      "metadata": {
        "id": "BzKRQo9k5JAA"
      },
      "source": [
        "fprs, tprs, aucs, labels = [],[],[],[]"
      ],
      "execution_count": 12,
      "outputs": []
    },
    {
      "cell_type": "code",
      "metadata": {
        "id": "l5BYMJQSPUK1"
      },
      "source": [
        "def create_best_model(model, X, y, param_grid):\n",
        "    from sklearn.neighbors import KNeighborsClassifier\n",
        "    from sklearn.model_selection import GridSearchCV\n",
        "    model_cv = GridSearchCV(model, param_grid=param_grid, cv=3, verbose=True,n_jobs=-1)\n",
        "    best_model = model_cv.fit(X,y)\n",
        "    return best_model.best_estimator_"
      ],
      "execution_count": 13,
      "outputs": []
    },
    {
      "cell_type": "code",
      "metadata": {
        "id": "xxwPmE2348PJ"
      },
      "source": [
        "def plot_roc_auc(y_test,fprs,tprs,aucs,labels, title='ROC PLOT', markers=['o']):\n",
        "\n",
        "    from sklearn.metrics import roc_curve, roc_auc_score\n",
        "    r_probs = [0 for _ in range(len(y_test))]\n",
        "    r_auc = roc_auc_score(y_test, r_probs)\n",
        "    r_fpr, r_tpr, r_thresh = roc_curve(y_test, r_probs)\n",
        "\n",
        "    import matplotlib.pyplot as plt\n",
        "    plt.figure(figsize=(10,8))\n",
        "    plt.plot(r_fpr,r_tpr,linestyle='--', label='Baseline AUC = {}'.format(round(r_auc,2)))\n",
        "    for fpr,tpr,auc,label in zip(fprs,tprs,aucs,labels):\n",
        "        plt.plot(fpr,tpr, label=label.format(round(auc,2)))\n",
        "    plt.title(title)\n",
        "    plt.xlabel('1 - Specificity')\n",
        "    plt.ylabel('Sensitivity')\n",
        "    plt.legend()\n",
        "    plt.savefig(title+\".jpg\")\n",
        "    plt.show();"
      ],
      "execution_count": 14,
      "outputs": []
    },
    {
      "cell_type": "code",
      "metadata": {
        "id": "Ugwz56DGPiRK"
      },
      "source": [
        "def create_and_eval_model(model,X_train,X_test,y_train,y_test, label):\n",
        "    from sklearn.metrics import roc_curve, roc_auc_score\n",
        "    model.fit(X_train, y_train)\n",
        "    model_probs = model.predict_proba(X_test)\n",
        "    model_probs = model_probs[:,1]\n",
        "    aucs.append(roc_auc_score(y_test,model_probs))\n",
        "    label_print = label+\" AUC = {}%\"\n",
        "    print(label_print.format(round(aucs[-1]*100,2)))\n",
        "    model_fpr, model_tpr, model_thresg = roc_curve(y_test, model_probs)\n",
        "    fprs.append(model_fpr), tprs.append(model_tpr)\n",
        "    add_label(label)"
      ],
      "execution_count": 15,
      "outputs": []
    },
    {
      "cell_type": "code",
      "metadata": {
        "id": "-KtSYVsV7F29"
      },
      "source": [
        "def add_label(txt):\n",
        "    txt = txt + \" AUC={}\"\n",
        "    labels.append(txt)"
      ],
      "execution_count": 16,
      "outputs": []
    },
    {
      "cell_type": "code",
      "metadata": {
        "id": "6qxzglCD7HPl"
      },
      "source": [
        "labels=[]"
      ],
      "execution_count": 17,
      "outputs": []
    },
    {
      "cell_type": "markdown",
      "metadata": {
        "id": "zBTrNDd75UmL"
      },
      "source": [
        "## Models"
      ]
    },
    {
      "cell_type": "markdown",
      "metadata": {
        "id": "8DL4dGDN5vHl"
      },
      "source": [
        "### Logistic Regression"
      ]
    },
    {
      "cell_type": "code",
      "metadata": {
        "colab": {
          "base_uri": "https://localhost:8080/"
        },
        "id": "fBQv24IT5yAz",
        "outputId": "1602dfbf-1737-48d2-8e7d-9f52f88c7cdf"
      },
      "source": [
        "param_grid=[\n",
        "            {'penalty':'l1,l2,elasticnet,nont'.split(','),\n",
        "             'C':np.logspace(-4,4,20),\n",
        "             'solver':'lbfgs,newton-cg,libllinear,sag,saga'.split(','),\n",
        "             'max_iter':[100,200,225,250,275,300, 5000]\n",
        "             }\n",
        "]\n",
        "from sklearn.linear_model import LogisticRegression\n",
        "from sklearn.model_selection import GridSearchCV\n",
        "logModel = LogisticRegression()\n",
        "# create_best_model(logModel, X, y, param_grid)\n",
        "print(\"\"\"\n",
        "LogisticRegression(C=0.23357214690901212, class_weight=None, dual=False,\n",
        "                   fit_intercept=True, intercept_scaling=1, l1_ratio=None,\n",
        "                   max_iter=100, multi_class='auto', n_jobs=None, penalty='l2',\n",
        "                   random_state=None, solver='newton-cg', tol=0.0001, verbose=0,\n",
        "                   warm_start=False)\n",
        "\"\"\")"
      ],
      "execution_count": 18,
      "outputs": [
        {
          "output_type": "stream",
          "text": [
            "\n",
            "LogisticRegression(C=0.23357214690901212, class_weight=None, dual=False,\n",
            "                   fit_intercept=True, intercept_scaling=1, l1_ratio=None,\n",
            "                   max_iter=100, multi_class='auto', n_jobs=None, penalty='l2',\n",
            "                   random_state=None, solver='newton-cg', tol=0.0001, verbose=0,\n",
            "                   warm_start=False)\n",
            "\n"
          ],
          "name": "stdout"
        }
      ]
    },
    {
      "cell_type": "code",
      "metadata": {
        "colab": {
          "base_uri": "https://localhost:8080/"
        },
        "id": "8tamP5Kf6Dex",
        "outputId": "6dd08261-de57-4445-a944-1ef21114bfeb"
      },
      "source": [
        "best_log = LogisticRegression(C=0.23357214690901212, class_weight=None, dual=False,\n",
        "                   fit_intercept=True, intercept_scaling=1, l1_ratio=None,\n",
        "                   max_iter=100, multi_class='auto', n_jobs=None, penalty='l2',\n",
        "                   random_state=None, solver='newton-cg', tol=0.0001, verbose=0,\n",
        "                   warm_start=False)\n",
        "create_and_eval_model(best_log, X_train,X_test,y_train,y_test,'Logistic Regression')"
      ],
      "execution_count": 19,
      "outputs": [
        {
          "output_type": "stream",
          "text": [
            "Logistic Regression AUC = 90.56%\n"
          ],
          "name": "stdout"
        }
      ]
    },
    {
      "cell_type": "markdown",
      "metadata": {
        "id": "d6VXdEOW6p7N"
      },
      "source": [
        "### MLP"
      ]
    },
    {
      "cell_type": "code",
      "metadata": {
        "colab": {
          "base_uri": "https://localhost:8080/"
        },
        "id": "hr323fPw7lbD",
        "outputId": "299b3a70-6c0c-4699-c600-088d6cc3d88e"
      },
      "source": [
        "param_grid=[\n",
        "            {\n",
        "            'hidden_layer_sizes':[(2),(2,2),(3,3),(3),(3,3,3),(4)],\n",
        "            'activation': ['identity', 'logistic', 'tanh', 'relu'],\n",
        "            'solver':'lbfgs,sgd,adam'.split(','),\n",
        "            'alpha':np.logspace(-1, 1, 5),\n",
        "            'learning_rate':'constant,invscaling,adaptive'.split(','),\n",
        "            'max_iter':[100,200,225,250,275,300, 5000],\n",
        "            }\n",
        "]\n",
        "from sklearn.neural_network import MLPClassifier\n",
        "mlp = MLPClassifier()\n",
        "# create_best_model(mlp, X, y, param_grid)\n",
        "print(\"\"\"MLPClassifier(activation='tanh', alpha=10.0, batch_size='auto', beta_1=0.9,\n",
        "              beta_2=0.999, early_stopping=False, epsilon=1e-08,\n",
        "              hidden_layer_sizes=4, learning_rate='constant',\n",
        "              learning_rate_init=0.001, max_fun=15000, max_iter=250,\n",
        "              momentum=0.9, n_iter_no_change=10, nesterovs_momentum=True,\n",
        "              power_t=0.5, random_state=None, shuffle=True, solver='lbfgs',\n",
        "              tol=0.0001, validation_fraction=0.1, verbose=False,\n",
        "              warm_start=False)\"\"\")"
      ],
      "execution_count": 20,
      "outputs": [
        {
          "output_type": "stream",
          "text": [
            "MLPClassifier(activation='tanh', alpha=10.0, batch_size='auto', beta_1=0.9,\n",
            "              beta_2=0.999, early_stopping=False, epsilon=1e-08,\n",
            "              hidden_layer_sizes=4, learning_rate='constant',\n",
            "              learning_rate_init=0.001, max_fun=15000, max_iter=250,\n",
            "              momentum=0.9, n_iter_no_change=10, nesterovs_momentum=True,\n",
            "              power_t=0.5, random_state=None, shuffle=True, solver='lbfgs',\n",
            "              tol=0.0001, validation_fraction=0.1, verbose=False,\n",
            "              warm_start=False)\n"
          ],
          "name": "stdout"
        }
      ]
    },
    {
      "cell_type": "code",
      "metadata": {
        "colab": {
          "base_uri": "https://localhost:8080/"
        },
        "id": "MVbziuB58DBE",
        "outputId": "096af111-2488-4f3c-f29a-11d627614e3a"
      },
      "source": [
        "best_mlp = MLPClassifier(activation='tanh', alpha=10.0, batch_size='auto', beta_1=0.9,\n",
        "              beta_2=0.999, early_stopping=False, epsilon=1e-08,\n",
        "              hidden_layer_sizes=4, learning_rate='constant',\n",
        "              learning_rate_init=0.001, max_fun=15000, max_iter=250,\n",
        "              momentum=0.9, n_iter_no_change=10, nesterovs_momentum=True,\n",
        "              power_t=0.5, random_state=None, shuffle=True, solver='lbfgs',\n",
        "              tol=0.0001, validation_fraction=0.1, verbose=False,\n",
        "              warm_start=False)\n",
        "create_and_eval_model(best_mlp, X_train,X_test,y_train,y_test,'MLP')"
      ],
      "execution_count": 21,
      "outputs": [
        {
          "output_type": "stream",
          "text": [
            "MLP AUC = 88.09%\n"
          ],
          "name": "stdout"
        },
        {
          "output_type": "stream",
          "text": [
            "/usr/local/lib/python3.7/dist-packages/sklearn/neural_network/_multilayer_perceptron.py:470: ConvergenceWarning: lbfgs failed to converge (status=1):\n",
            "STOP: TOTAL NO. of ITERATIONS REACHED LIMIT.\n",
            "\n",
            "Increase the number of iterations (max_iter) or scale the data as shown in:\n",
            "    https://scikit-learn.org/stable/modules/preprocessing.html\n",
            "  self.n_iter_ = _check_optimize_result(\"lbfgs\", opt_res, self.max_iter)\n"
          ],
          "name": "stderr"
        }
      ]
    },
    {
      "cell_type": "markdown",
      "metadata": {
        "id": "oGFtjJiNIgmx"
      },
      "source": [
        "### KNN"
      ]
    },
    {
      "cell_type": "code",
      "metadata": {
        "colab": {
          "base_uri": "https://localhost:8080/"
        },
        "id": "YttpJYuXcSYm",
        "outputId": "1fd6dc3d-1736-4977-ad01-49a3629ce8cf"
      },
      "source": [
        "param_grid = [\n",
        "              {\n",
        "                  'n_neighbors':[5,25,50,75,100,125],\n",
        "                  'weights': 'uniform,distance'.split(','),\n",
        "                  'algorithm': 'auto,ball_tree,kd_tree,brute'.split(','),\n",
        "                  'leaf_size':[10,20,30,40,50,60,70,80,90,100,150,200,250],\n",
        "                  'p' : [1,2],\n",
        "                  'metric':['minkowski'],\n",
        "                  'n_jobs':[-1]\n",
        "              }\n",
        "]\n",
        "from sklearn.neighbors import KNeighborsClassifier\n",
        "from sklearn.model_selection import GridSearchCV\n",
        "knnModel = KNeighborsClassifier()\n",
        "# create_best_model(knnModel,X,y,param_grid)\n",
        "print(\"\"\"\n",
        "KNeighborsClassifier(algorithm='auto', leaf_size=10, metric='minkowski',\n",
        "                     metric_params=None, n_jobs=-1, n_neighbors=25, p=1,\n",
        "                     weights='distance')\n",
        "\"\"\")"
      ],
      "execution_count": 22,
      "outputs": [
        {
          "output_type": "stream",
          "text": [
            "\n",
            "KNeighborsClassifier(algorithm='auto', leaf_size=10, metric='minkowski',\n",
            "                     metric_params=None, n_jobs=-1, n_neighbors=25, p=1,\n",
            "                     weights='distance')\n",
            "\n"
          ],
          "name": "stdout"
        }
      ]
    },
    {
      "cell_type": "code",
      "metadata": {
        "colab": {
          "base_uri": "https://localhost:8080/"
        },
        "id": "CPP6KR1_cp5p",
        "outputId": "4ef53e43-0cf9-4f36-e2aa-6f7fc7231fed"
      },
      "source": [
        "best_knn = KNeighborsClassifier(algorithm='auto', leaf_size=10, metric='minkowski',\n",
        "                     metric_params=None, n_jobs=-1, n_neighbors=25, p=1,\n",
        "                     weights='distance')\n",
        "create_and_eval_model(best_knn, X_train,X_test,y_train,y_test,'KNN')"
      ],
      "execution_count": 23,
      "outputs": [
        {
          "output_type": "stream",
          "text": [
            "KNN AUC = 80.13%\n"
          ],
          "name": "stdout"
        }
      ]
    },
    {
      "cell_type": "markdown",
      "metadata": {
        "id": "yB3p821ldAFM"
      },
      "source": [
        "### Naive Bayes"
      ]
    },
    {
      "cell_type": "code",
      "metadata": {
        "colab": {
          "base_uri": "https://localhost:8080/"
        },
        "id": "XujivY1cfu7h",
        "outputId": "73045723-eb81-4fd4-907d-59276d7b3fb7"
      },
      "source": [
        "# Naive Bayes\n",
        "from sklearn.naive_bayes import GaussianNB\n",
        "nbClassifier = GaussianNB()\n",
        "param_grid=[\n",
        "            {\n",
        "                'var_smoothing':[1e-9,1e-10,1e+10,1e+9,1e-7,1e-6]\n",
        "            }\n",
        "]\n",
        "# create_best_model(nbClassifier,X,y, param_grid)\n",
        "print(\"\"\"GaussianNB(priors=None, var_smoothing=1e-06)\"\"\")"
      ],
      "execution_count": 24,
      "outputs": [
        {
          "output_type": "stream",
          "text": [
            "GaussianNB(priors=None, var_smoothing=1e-06)\n"
          ],
          "name": "stdout"
        }
      ]
    },
    {
      "cell_type": "code",
      "metadata": {
        "colab": {
          "base_uri": "https://localhost:8080/"
        },
        "id": "1VqH0UNQfwvK",
        "outputId": "092af76f-1d54-49af-87cf-d3181f458bc8"
      },
      "source": [
        "\n",
        "nb_best = GaussianNB(priors=None, var_smoothing=1e-06)\n",
        "create_and_eval_model(nb_best, X_train, X_test, y_train, y_test,'Naive Bayes')"
      ],
      "execution_count": 25,
      "outputs": [
        {
          "output_type": "stream",
          "text": [
            "Naive Bayes AUC = 89.78%\n"
          ],
          "name": "stdout"
        }
      ]
    },
    {
      "cell_type": "markdown",
      "metadata": {
        "id": "XjWjwncjgKTp"
      },
      "source": [
        "### Decision Tree Classifier"
      ]
    },
    {
      "cell_type": "code",
      "metadata": {
        "colab": {
          "base_uri": "https://localhost:8080/"
        },
        "id": "BT9xA1fTgRNw",
        "outputId": "f0dd82f3-e863-4a51-cd6c-8b2f7853e2f7"
      },
      "source": [
        "# Decision Tree Classifier\n",
        "from sklearn.tree import DecisionTreeClassifier as DTC\n",
        "decisionTree = DTC()\n",
        "param_grid=[\n",
        "            {\n",
        "                'criterion':'gini,entropy'.split(','), \n",
        "                'splitter':'best,random'.split(','),\n",
        "                'max_depth':[None,1,2,5,6,8,10,20,30,50,100], \n",
        "                'min_samples_split':[2,4,5,6,7],\n",
        "                'min_samples_leaf':[1,2,3,4,5,6,7,8],\n",
        "                'max_features':'None,auto,sqrt,log2'.split(','),\n",
        "                'random_state':[None,0,10,20,50,100]\n",
        "            }\n",
        "]\n",
        "# create_best_model(decisionTree,X,y, param_grid)\n",
        "# print(\"\"\"DecisionTreeClassifier(ccp_alpha=0.0, class_weight=None, criterion='entropy',\n",
        "#                        max_depth=5, max_features='log2', max_leaf_nodes=None,\n",
        "#                        min_impurity_decrease=0.0, min_impurity_split=None,\n",
        "#                        min_samples_leaf=3, min_samples_split=5,\n",
        "#                        min_weight_fraction_leaf=0.0, presort='deprecated',\n",
        "#                        random_state=None, splitter='random')\"\"\")\n",
        "print(\"\"\"\n",
        "DecisionTreeClassifier(ccp_alpha=0.0, class_weight=None, criterion='gini',\n",
        "                       max_depth=5, max_features='auto', max_leaf_nodes=None,\n",
        "                       min_impurity_decrease=0.0, min_impurity_split=None,\n",
        "                       min_samples_leaf=8, min_samples_split=2,\n",
        "                       min_weight_fraction_leaf=0.0, presort='deprecated',\n",
        "                       random_state=20, splitter='best')\n",
        "\"\"\")"
      ],
      "execution_count": 26,
      "outputs": [
        {
          "output_type": "stream",
          "text": [
            "\n",
            "DecisionTreeClassifier(ccp_alpha=0.0, class_weight=None, criterion='gini',\n",
            "                       max_depth=5, max_features='auto', max_leaf_nodes=None,\n",
            "                       min_impurity_decrease=0.0, min_impurity_split=None,\n",
            "                       min_samples_leaf=8, min_samples_split=2,\n",
            "                       min_weight_fraction_leaf=0.0, presort='deprecated',\n",
            "                       random_state=20, splitter='best')\n",
            "\n"
          ],
          "name": "stdout"
        }
      ]
    },
    {
      "cell_type": "code",
      "metadata": {
        "colab": {
          "base_uri": "https://localhost:8080/"
        },
        "id": "fcSg40SmgUsw",
        "outputId": "f5ff885c-df87-4e22-eed9-d4b836efb740"
      },
      "source": [
        "from sklearn.tree import DecisionTreeClassifier\n",
        "dtc_best = DecisionTreeClassifier(ccp_alpha=0.0, class_weight=None, criterion='entropy',\n",
        "                       max_depth=5, max_features='log2', max_leaf_nodes=None,\n",
        "                       min_impurity_decrease=0.0, min_impurity_split=None,\n",
        "                       min_samples_leaf=3, min_samples_split=5,\n",
        "                       min_weight_fraction_leaf=0.0, presort='deprecated',\n",
        "                       random_state=10, splitter='random')\n",
        "create_and_eval_model(dtc_best,X_train,X_test,y_train,y_test,'Decision Trees criterion=entroy')\n",
        "dtc_best = DecisionTreeClassifier(ccp_alpha=0.0, class_weight=None, criterion='gini',\n",
        "                       max_depth=5, max_features='auto', max_leaf_nodes=None,\n",
        "                       min_impurity_decrease=0.0, min_impurity_split=None,\n",
        "                       min_samples_leaf=8, min_samples_split=2,\n",
        "                       min_weight_fraction_leaf=0.0, presort='deprecated',\n",
        "                       random_state=20, splitter='best')\n",
        "create_and_eval_model(dtc_best,X_train,X_test,y_train,y_test,'Decision Trees criterion=gini')"
      ],
      "execution_count": 27,
      "outputs": [
        {
          "output_type": "stream",
          "text": [
            "Decision Trees criterion=entroy AUC = 83.93%\n",
            "Decision Trees criterion=gini AUC = 87.56%\n"
          ],
          "name": "stdout"
        }
      ]
    },
    {
      "cell_type": "markdown",
      "metadata": {
        "id": "MzXn2vm8grNU"
      },
      "source": [
        "Support Vector Classifier"
      ]
    },
    {
      "cell_type": "code",
      "metadata": {
        "colab": {
          "base_uri": "https://localhost:8080/"
        },
        "id": "Mmecj-jkjEmn",
        "outputId": "cab67158-7b4e-4158-8bea-8c4a32703d0d"
      },
      "source": [
        "# Support Vector Classifier\n",
        "from sklearn.svm import SVC\n",
        "svc = SVC()\n",
        "param_grid=[\n",
        "            {\n",
        "                'C':[1.0],\n",
        "                'kernel':['linear', 'rbf', 'sigmoid'],\n",
        "                'gamma':['scale','auto'],\n",
        "                'class_weight':[None,'balanced'],\n",
        "                # 'max_iter':[-1,200,300,400,500],\n",
        "                # 'decision_function_shape':'ovo,ovr'.split(','),\n",
        "                'random_state':[None,0,10,20,50,100],\n",
        "                'probability':[True]\n",
        "            }\n",
        "]\n",
        "# create_best_model(svc,X,y, param_grid)\n",
        "print(\"\"\"\n",
        "SVC(C=1.0, break_ties=False, cache_size=200, class_weight=None, coef0=0.0,\n",
        "    decision_function_shape='ovr', degree=3, gamma='scale', kernel='linear',\n",
        "    max_iter=-1, probability=True, random_state=None, shrinking=True, tol=0.001,\n",
        "    verbose=False)\n",
        "\"\"\")"
      ],
      "execution_count": 28,
      "outputs": [
        {
          "output_type": "stream",
          "text": [
            "\n",
            "SVC(C=1.0, break_ties=False, cache_size=200, class_weight=None, coef0=0.0,\n",
            "    decision_function_shape='ovr', degree=3, gamma='scale', kernel='linear',\n",
            "    max_iter=-1, probability=True, random_state=None, shrinking=True, tol=0.001,\n",
            "    verbose=False)\n",
            "\n"
          ],
          "name": "stdout"
        }
      ]
    },
    {
      "cell_type": "code",
      "metadata": {
        "colab": {
          "base_uri": "https://localhost:8080/"
        },
        "id": "83cXGPr-jPW-",
        "outputId": "5f5637d1-cfb4-4f52-fce0-82c3424f6f07"
      },
      "source": [
        "svc_best = SVC(C=1.0, break_ties=False, cache_size=200, class_weight=None, coef0=0.0,\n",
        "    decision_function_shape='ovr', degree=3, gamma='scale', kernel='linear',\n",
        "    max_iter=-1, probability=True, random_state=10, shrinking=True, tol=0.001,\n",
        "    verbose=False)\n",
        "create_and_eval_model(svc_best,X_train,X_test,y_train, y_test,'SVC RS=None')"
      ],
      "execution_count": 29,
      "outputs": [
        {
          "output_type": "stream",
          "text": [
            "SVC RS=None AUC = 89.85%\n"
          ],
          "name": "stdout"
        }
      ]
    },
    {
      "cell_type": "markdown",
      "metadata": {
        "id": "uPaa0OYxjus_"
      },
      "source": [
        "### Extra Tree Classifier"
      ]
    },
    {
      "cell_type": "code",
      "metadata": {
        "colab": {
          "base_uri": "https://localhost:8080/"
        },
        "id": "dopP8cstlVrx",
        "outputId": "cb199c47-3f58-4102-a7a3-6241c7936394"
      },
      "source": [
        "from sklearn.ensemble import ExtraTreesClassifier\n",
        "etc = ExtraTreesClassifier()\n",
        "# etc.fit(x_train, y_train)\n",
        "param_grid=[\n",
        "            {\n",
        "                'n_estimators':[10,20,50,60,100,150,200,250,300],\n",
        "                'criterion':['gini','entropy'],\n",
        "                'max_features':[None,'sqrt','log2'],\n",
        "                'bootstrap':[True,False],\n",
        "                'oob_score':[True,False],\n",
        "                'n_jobs':[None],\n",
        "                'random_state':[10],\n",
        "                'verbose':[0],\n",
        "                'warm_start':[False],\n",
        "                'class_weight':[None,'balanced','balanced_subsample'],\n",
        "                'ccp_alpha':[0.0],\n",
        "                'max_samples':[None]\n",
        "            }\n",
        "]\n",
        "# create_best_model(etc,X,y, param_grid)\n",
        "print(\"\"\"\n",
        "ExtraTreesClassifier(bootstrap=True, ccp_alpha=0.0, class_weight=None,\n",
        "                     criterion='entropy', max_depth=None, max_features=None,\n",
        "                     max_leaf_nodes=None, max_samples=None,\n",
        "                     min_impurity_decrease=0.0, min_impurity_split=None,\n",
        "                     min_samples_leaf=1, min_samples_split=2,\n",
        "                     min_weight_fraction_leaf=0.0, n_estimators=60, n_jobs=None,\n",
        "                     oob_score=True, random_state=10, verbose=0,\n",
        "                     warm_start=False)\n",
        "\"\"\")"
      ],
      "execution_count": 30,
      "outputs": [
        {
          "output_type": "stream",
          "text": [
            "\n",
            "ExtraTreesClassifier(bootstrap=True, ccp_alpha=0.0, class_weight=None,\n",
            "                     criterion='entropy', max_depth=None, max_features=None,\n",
            "                     max_leaf_nodes=None, max_samples=None,\n",
            "                     min_impurity_decrease=0.0, min_impurity_split=None,\n",
            "                     min_samples_leaf=1, min_samples_split=2,\n",
            "                     min_weight_fraction_leaf=0.0, n_estimators=60, n_jobs=None,\n",
            "                     oob_score=True, random_state=10, verbose=0,\n",
            "                     warm_start=False)\n",
            "\n"
          ],
          "name": "stdout"
        }
      ]
    },
    {
      "cell_type": "code",
      "metadata": {
        "colab": {
          "base_uri": "https://localhost:8080/"
        },
        "id": "TQit_VGSlZCd",
        "outputId": "39204a2f-b2e4-4eba-9cae-682580624981"
      },
      "source": [
        "etc_best = ExtraTreesClassifier(bootstrap=True, ccp_alpha=0.0, class_weight=None,\n",
        "                     criterion='entropy', max_depth=None, max_features=None,\n",
        "                     max_leaf_nodes=None, max_samples=None,\n",
        "                     min_impurity_decrease=0.0, min_impurity_split=None,\n",
        "                     min_samples_leaf=1, min_samples_split=2,\n",
        "                     min_weight_fraction_leaf=0.0, n_estimators=60, n_jobs=None,\n",
        "                     oob_score=True, random_state=10, verbose=0,\n",
        "                     warm_start=False)\n",
        "create_and_eval_model(etc_best, X_train,X_test,y_train,y_test,'Extra Trees')"
      ],
      "execution_count": 31,
      "outputs": [
        {
          "output_type": "stream",
          "text": [
            "Extra Trees AUC = 92.28%\n"
          ],
          "name": "stdout"
        }
      ]
    },
    {
      "cell_type": "markdown",
      "metadata": {
        "id": "hRa295qT1Xge"
      },
      "source": [
        "### Random Forest"
      ]
    },
    {
      "cell_type": "code",
      "metadata": {
        "colab": {
          "base_uri": "https://localhost:8080/"
        },
        "id": "Ca5HfWVn1_WN",
        "outputId": "a7c606d8-f9d4-405a-e99f-1e633190caad"
      },
      "source": [
        "# Random Forest Classifier\n",
        "from sklearn.ensemble import RandomForestClassifier\n",
        "rfc = RandomForestClassifier()\n",
        "param_grid=[\n",
        "            {\n",
        "                'n_estimators':[10,20,30,40,50,60,90,100,150,200,250,300,350,400],\n",
        "                'criterion':['gini','entropy'],\n",
        "                'max_features':[None,'sqrt','log2'],\n",
        "                'bootstrap':[True,False],\n",
        "                'oob_score':[True,False],\n",
        "                'n_jobs':[None],\n",
        "                'random_state':[10],\n",
        "                'verbose':[0],\n",
        "                'warm_start':[True,False],\n",
        "                'class_weight':[None,'balanced','balanced_subsample'],\n",
        "                'ccp_alpha':[0.0],\n",
        "                'max_samples':[None]\n",
        "            }\n",
        "]\n",
        "# create_best_model(rfc,X,y,param_grid)\n",
        "print(\"\"\"\n",
        "RandomForestClassifier(bootstrap=True, ccp_alpha=0.0, class_weight='balanced',\n",
        "                       criterion='gini', max_depth=None, max_features='sqrt',\n",
        "                       max_leaf_nodes=None, max_samples=None,\n",
        "                       min_impurity_decrease=0.0, min_impurity_split=None,\n",
        "                       min_samples_leaf=1, min_samples_split=2,\n",
        "                       min_weight_fraction_leaf=0.0, n_estimators=300,\n",
        "                       n_jobs=None, oob_score=True, random_state=10, verbose=0,\n",
        "                       warm_start=True)\n",
        "\"\"\")"
      ],
      "execution_count": 32,
      "outputs": [
        {
          "output_type": "stream",
          "text": [
            "\n",
            "RandomForestClassifier(bootstrap=True, ccp_alpha=0.0, class_weight='balanced',\n",
            "                       criterion='gini', max_depth=None, max_features='sqrt',\n",
            "                       max_leaf_nodes=None, max_samples=None,\n",
            "                       min_impurity_decrease=0.0, min_impurity_split=None,\n",
            "                       min_samples_leaf=1, min_samples_split=2,\n",
            "                       min_weight_fraction_leaf=0.0, n_estimators=300,\n",
            "                       n_jobs=None, oob_score=True, random_state=10, verbose=0,\n",
            "                       warm_start=True)\n",
            "\n"
          ],
          "name": "stdout"
        }
      ]
    },
    {
      "cell_type": "code",
      "metadata": {
        "colab": {
          "base_uri": "https://localhost:8080/"
        },
        "id": "hZ32koum2G1I",
        "outputId": "41f930f0-d28d-41dd-a215-0909e565c166"
      },
      "source": [
        "rfc_best = RandomForestClassifier(bootstrap=True, ccp_alpha=0.0, class_weight='balanced',\n",
        "                       criterion='gini', max_depth=None, max_features='sqrt',\n",
        "                       max_leaf_nodes=None, max_samples=None,\n",
        "                       min_impurity_decrease=0.0, min_impurity_split=None,\n",
        "                       min_samples_leaf=1, min_samples_split=2,\n",
        "                       min_weight_fraction_leaf=0.0, n_estimators=300,\n",
        "                       n_jobs=None, oob_score=True, random_state=10, verbose=0,\n",
        "                       warm_start=True)\n",
        "create_and_eval_model(rfc_best, X_train, X_test, y_train, y_test, 'Random Forest',)"
      ],
      "execution_count": 33,
      "outputs": [
        {
          "output_type": "stream",
          "text": [
            "/usr/local/lib/python3.7/dist-packages/sklearn/ensemble/_forest.py:569: UserWarning: class_weight presets \"balanced\" or \"balanced_subsample\" are not recommended for warm_start if the fitted data differs from the full dataset. In order to use \"balanced\" weights, use compute_class_weight (\"balanced\", classes, y). In place of y you can use a large enough sample of the full training set target to properly estimate the class frequency distributions. Pass the resulting weights as the class_weight parameter.\n",
            "  warn('class_weight presets \"balanced\" or '\n"
          ],
          "name": "stderr"
        },
        {
          "output_type": "stream",
          "text": [
            "Random Forest AUC = 92.99%\n"
          ],
          "name": "stdout"
        }
      ]
    },
    {
      "cell_type": "code",
      "metadata": {
        "colab": {
          "base_uri": "https://localhost:8080/",
          "height": 513
        },
        "id": "fohEAg9SCpfq",
        "outputId": "a00f8929-ef81-4f70-cedd-c6011b0f18f4"
      },
      "source": [
        "plot_roc_auc(y_test,fprs,tprs,aucs,labels,title='ROC_AUC Plot')"
      ],
      "execution_count": 34,
      "outputs": [
        {
          "output_type": "display_data",
          "data": {
            "image/png": "[encoded data removed]",
            "text/plain": [
              "<Figure size 720x576 with 1 Axes>"
            ]
          },
          "metadata": {
            "tags": [],
            "needs_background": "light"
          }
        }
      ]
    },
    {
      "cell_type": "markdown",
      "metadata": {
        "id": "H82MJLOVAd1u"
      },
      "source": [
        "## Further Comparing models\n",
        "There are four ways to check if the predictions are right or wrong:\n",
        "- TN / True Negative: the case was negative and predicted negative\n",
        "- TP / True Positive: the case was positive and predicted positive\n",
        "- FN / False Negative: the case was positive but predicted negative\n",
        "- FP / False Positive: the case was negative but predicted positive\n",
        "\n",
        "### Precision — What percent of your predictions were correct?\n",
        "Precision is the ability of a classifier not to label an instance positive that is actually negative. For each class, it is defined as the ratio of true positives to the sum of a true positive and false positive.\n",
        "\n",
        "Precision:- Accuracy of positive predictions.\n",
        "- Precision = TP/(TP + FP)\n",
        "\n",
        "### Recall — What percent of the positive cases did you catch?\n",
        "\n",
        "Recall is the ability of a classifier to find all positive instances. \n",
        "\n",
        "For each class it is defined as the ratio of true positives to the sum of true positives and false negatives.\n",
        "\n",
        "Recall:- Fraction of positives that were correctly identified.\n",
        "- Recall = TP/(TP+FN)\n",
        "\n",
        "### F1 score — What percent of positive predictions were correct?\n",
        "\n",
        "The F1 score is a weighted harmonic mean of precision and recall such that the best score is 1.0 and the worst is 0.0. F1 scores are lower than accuracy measures as they embed precision and recall into their computation. As a rule of thumb, the weighted average of F1 should be used to compare classifier models, not global accuracy.\n",
        "- F1 Score = 2*(Recall * Precision) / (Recall + Precision)\n",
        "\n",
        "### Support\n",
        "Support is the number of actual occurrences of the class in the specified dataset. Imbalanced support in the training data may indicate structural weaknesses in the reported scores of the classifier and could indicate the need for stratified sampling or rebalancing. Support doesn’t change between models but instead diagnoses the evaluation process."
      ]
    },
    {
      "cell_type": "code",
      "metadata": {
        "id": "i34LBZDD8RzR"
      },
      "source": [
        "models=[\n",
        "        {\n",
        "            'rfc':rfc_best,\n",
        "            'etc':etc_best,\n",
        "            'svc':svc_best,\n",
        "            'mlp':best_mlp,\n",
        "            'log':best_log\n",
        "        },\n",
        "]\n",
        "datasets = [\n",
        "        {\n",
        "            'X_test':X_test,\n",
        "            'y_test':y_test\n",
        "        }\n",
        "]"
      ],
      "execution_count": 35,
      "outputs": []
    },
    {
      "cell_type": "code",
      "metadata": {
        "id": "5caZ1EP-8quc"
      },
      "source": [
        "def print_classification_report(models, test_data):\n",
        "    from sklearn.metrics import classification_report\n",
        "    model_dict = models[0]\n",
        "    X_test = test_data[0]['X_test']\n",
        "    y_test = test_data[0]['y_test']\n",
        "    for model_name, model in model_dict.items():\n",
        "        print(\"---------------------------------\")\n",
        "        print(model_name.upper())\n",
        "        print(classification_report(y_test,model.predict(X_test)))\n",
        "        print(\"---------------------------------\")"
      ],
      "execution_count": 36,
      "outputs": []
    },
    {
      "cell_type": "code",
      "metadata": {
        "colab": {
          "base_uri": "https://localhost:8080/"
        },
        "id": "szd96Yvr-OOC",
        "outputId": "ae8fa53c-4c52-48df-eb61-1bd45a2d155f"
      },
      "source": [
        "print_classification_report(models=models,test_data=datasets)"
      ],
      "execution_count": 37,
      "outputs": [
        {
          "output_type": "stream",
          "text": [
            "---------------------------------\n",
            "RFC\n",
            "              precision    recall  f1-score   support\n",
            "\n",
            "           0       0.89      0.76      0.82        33\n",
            "           1       0.83      0.93      0.88        43\n",
            "\n",
            "    accuracy                           0.86        76\n",
            "   macro avg       0.86      0.84      0.85        76\n",
            "weighted avg       0.86      0.86      0.85        76\n",
            "\n",
            "---------------------------------\n",
            "---------------------------------\n",
            "ETC\n",
            "              precision    recall  f1-score   support\n",
            "\n",
            "           0       0.83      0.76      0.79        33\n",
            "           1       0.83      0.88      0.85        43\n",
            "\n",
            "    accuracy                           0.83        76\n",
            "   macro avg       0.83      0.82      0.82        76\n",
            "weighted avg       0.83      0.83      0.83        76\n",
            "\n",
            "---------------------------------\n",
            "---------------------------------\n",
            "SVC\n",
            "              precision    recall  f1-score   support\n",
            "\n",
            "           0       0.89      0.73      0.80        33\n",
            "           1       0.82      0.93      0.87        43\n",
            "\n",
            "    accuracy                           0.84        76\n",
            "   macro avg       0.85      0.83      0.83        76\n",
            "weighted avg       0.85      0.84      0.84        76\n",
            "\n",
            "---------------------------------\n",
            "---------------------------------\n",
            "MLP\n",
            "              precision    recall  f1-score   support\n",
            "\n",
            "           0       0.86      0.76      0.81        33\n",
            "           1       0.83      0.91      0.87        43\n",
            "\n",
            "    accuracy                           0.84        76\n",
            "   macro avg       0.85      0.83      0.84        76\n",
            "weighted avg       0.84      0.84      0.84        76\n",
            "\n",
            "---------------------------------\n",
            "---------------------------------\n",
            "LOG\n",
            "              precision    recall  f1-score   support\n",
            "\n",
            "           0       0.86      0.76      0.81        33\n",
            "           1       0.83      0.91      0.87        43\n",
            "\n",
            "    accuracy                           0.84        76\n",
            "   macro avg       0.85      0.83      0.84        76\n",
            "weighted avg       0.84      0.84      0.84        76\n",
            "\n",
            "---------------------------------\n"
          ],
          "name": "stdout"
        }
      ]
    },
    {
      "cell_type": "markdown",
      "metadata": {
        "id": "8aPCmANx8Fw8"
      },
      "source": [
        ""
      ]
    },
    {
      "cell_type": "markdown",
      "metadata": {
        "id": "R1yFU8nW4zSX"
      },
      "source": [
        "## Making Predictions\n",
        "\n",
        "After analysing the ROC Plot and the above comparision I chose the Random Forest algorithm\n",
        "Because, it has the highest AUC, which means High Specificity and Lowest Specificity...\n",
        "\n",
        "Or\n",
        "\"\" Algorithm gave us high tpr and low fpr\n",
        "\n",
        "The chosen parameters of the model:\n",
        "```python\n",
        "RandomForestClassifier(bootstrap=True, ccp_alpha=0.0, class_weight='balanced',\n",
        "                       criterion='gini', max_depth=None, max_features='sqrt',\n",
        "                       max_leaf_nodes=None, max_samples=None,\n",
        "                       min_impurity_decrease=0.0, min_impurity_split=None,\n",
        "                       min_samples_leaf=1, min_samples_split=2,\n",
        "                       min_weight_fraction_leaf=0.0, n_estimators=300,\n",
        "                       n_jobs=None, oob_score=True, random_state=10, verbose=0,\n",
        "                       warm_start=True)\n",
        "```"
      ]
    },
    {
      "cell_type": "code",
      "metadata": {
        "id": "AZTEJZrH45Uj"
      },
      "source": [
        "def calculate_accuracy(model,X_test,y_test):\n",
        "    from sklearn.metrics import accuracy_score\n",
        "    return accuracy_score(y_test, model.predict(X_test))"
      ],
      "execution_count": 38,
      "outputs": []
    },
    {
      "cell_type": "code",
      "metadata": {
        "colab": {
          "base_uri": "https://localhost:8080/"
        },
        "id": "_Xof556yB68B",
        "outputId": "81dd1af5-5ce2-427c-91bc-81859505f7be"
      },
      "source": [
        "print(\"Accuracy of Random Forest Classifier = {}%\".format(round(calculate_accuracy(rfc_best,X_test,y_test)*100,2)))"
      ],
      "execution_count": 39,
      "outputs": [
        {
          "output_type": "stream",
          "text": [
            "Accuracy of Random Forest Classifier = 85.53%\n"
          ],
          "name": "stdout"
        }
      ]
    },
    {
      "cell_type": "markdown",
      "metadata": {
        "id": "2YfaQ5jSCApp"
      },
      "source": [
        "age\tsex\tcp\ttrestbps\tchol\tfbs\trestecg\tthalach\texang\toldpeak\tslope\tca\tthal\ttarget"
      ]
    }
  ]
}